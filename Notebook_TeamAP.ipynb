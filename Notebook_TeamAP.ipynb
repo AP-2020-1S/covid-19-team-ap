{
 "cells": [
  {
   "cell_type": "markdown",
   "metadata": {
    "colab_type": "text",
    "id": "Q53UNe_kgvFK"
   },
   "source": [
    "## **Definición del Problema**\n",
    "> Debido a la Pandemia que actualmente afronta el mundo, se requiere estimar cómo será la evolución del síndrome respiratorio agudo severo (Covid-19) en los próximos 3 meses en Colombia. Se analizó el comportamiento de las 5 principales ciudades del país, con el fin de generar alertas que permitan tomar decisiones estratégicas tratando de disminuir los impactos que esta pueda generar en la sociedad. Las principales variables a monitorear son la ocurrencia de nuevos casos, los casos activos, los casos confirmados, el número de muertes y el número de recuperados.\n",
    "\n"
   ]
  },
  {
   "cell_type": "markdown",
   "metadata": {
    "colab_type": "text",
    "id": "s3qUrxsylR8B"
   },
   "source": [
    "## **Definición del Problema de Analítica**\n",
    "\n",
    "> Se busca estimar el comportamiento futuro de las variables en estudio, sospechando que los contagios continuaran incrementando dado que aún existe una gran porción de la población que no se ha contagiado por primera vez, los contagios acumulados a la fecha son aproximadamente 1,2% del total de la población. Se tiene como variable principal los contagios dado que las otras variables son dependientes de esta.\n",
    "\n",
    "\n",
    "> Con el fin de estimar el comportamiento de las variables, se realizaron modelos de corto y mediano plazo, basados en la modelación matemática y estadística de los datos reales que se tienen desde el 3 de marzo y que han sido reportados por el Instituto Nacional de Salud (INS) en datos.gov.co.\n",
    "Los atributos escogidos de las bases de datos del INS son: \n",
    "\n",
    "> *  **Ciudad :** Usado para identificar el número de casos por cada ciudad.\n",
    "*  **Estado :** Usado para clasificar si la persona es un caso activo, recuperado o muerto.\n",
    "* **Fecha de diagnóstico:** Usado para determinar los casos activos en el tiempo.\n",
    "*  **Fecha de recuperados:** Usado para determinar los casos recuperados en el tiempo.\n",
    "*  **Fecha de muerte:** Usado para determinar el número de personas muertas en el tiempo.\n",
    "\n",
    "> De la página del Departamento Administrativo Nacional de Estadística (DANE), se extrajo las proyecciones poblacionales del 2020 para las cinco principales ciudades del país, como población base para los pronósticos de corto y mediano plazo.\n",
    "\n",
    "\n",
    "\n",
    "\n",
    "\n",
    "\n",
    "\n",
    "\n",
    "\n"
   ]
  },
  {
   "cell_type": "markdown",
   "metadata": {},
   "source": [
    "## **Lectura y limpieza de datos**\n"
   ]
  },
  {
   "cell_type": "markdown",
   "metadata": {},
   "source": [
    "Se crea una función que realiza consultas a través de API's en datos.gov.co y otra función que lee y limpia un archivo .xlsx con la proyección del DANE de las diferentes edades de la población colombiana por región."
   ]
  },
  {
   "cell_type": "code",
   "execution_count": 8,
   "metadata": {},
   "outputs": [],
   "source": [
    "# Librerías\n",
    "\n",
    "import pandas as pd\n",
    "import numpy as np\n",
    "from scipy.optimize import curve_fit\n",
    "import matplotlib.pyplot as plt\n",
    "from scipy.integrate import odeint\n",
    "import scipy.stats as st\n",
    "from pmdarima import auto_arima \n",
    "from statsmodels.tsa.statespace.sarimax import SARIMAX\n",
    "from sklearn.metrics import mean_absolute_error\n",
    "from sklearn.metrics import r2_score\n",
    "import warnings\n",
    "warnings.filterwarnings('ignore')\n",
    "import datetime as dt\n",
    "import math\n",
    "from sklearn.metrics import mean_squared_error\n",
    "import pmdarima as pm"
   ]
  },
  {
   "cell_type": "code",
   "execution_count": 2,
   "metadata": {},
   "outputs": [],
   "source": [
    "import pandas as pd\n",
    "from sodapy import Socrata\n",
    "\n",
    "def data(lim):\n",
    "    \n",
    "    client = Socrata(\"www.datos.gov.co\", None)\n",
    "    \n",
    "    pruebas_api = client.get(\"8835-5baf\", limit=lim)\n",
    "    df_pruebas = pd.DataFrame.from_records(pruebas_api)\n",
    "    \n",
    "    del pruebas_api\n",
    "    \n",
    "    casos_api = client.get(\"gt2j-8ykr\", limit=lim)\n",
    "    df_casos = pd.DataFrame.from_records(casos_api)\n",
    "\n",
    "    del casos_api\n",
    "      \n",
    "    return df_pruebas, df_casos\n",
    "\n",
    "\n",
    "\n",
    "def poblacion(ruta):\n",
    "    # Lectura de datos\n",
    "    df = pd.read_excel(ruta, sheet_name='PPO_GQEdad_DPTO')\n",
    "    \n",
    "    # se extraen los códigos de cada departamento\n",
    "    codigos = df[df['Codigo'].notna()][['Codigo','Grupos de edad']]\n",
    "    codigos.columns = ['Codigo','Región']\n",
    "    \n",
    "    # se llenan los NA con el código inmediatamente anterior\n",
    "    df['Codigo'] = df['Codigo'].fillna(method='ffill')\n",
    "    \n",
    "    # se eliminan las filas de los títulos de los departamentos\n",
    "    # y las filas del final que traen NA\n",
    "    df = df.dropna()\n",
    "    \n",
    "    # se hace un merge para tener los nombres de los departamentos\n",
    "    df = pd.merge(df,codigos,on='Codigo',how='left')\n",
    "    \n",
    "    return df"
   ]
  },
  {
   "cell_type": "code",
   "execution_count": 3,
   "metadata": {},
   "outputs": [
    {
     "name": "stderr",
     "output_type": "stream",
     "text": [
      "WARNING:root:Requests made without an app_token will be subject to strict throttling limits.\n"
     ]
    }
   ],
   "source": [
    "#Se definen las funciones con las columnas de datos que seran usadas posteriormente\n",
    "\n",
    "df_pruebas, df_casos = data(10000000)\n",
    "df_pob = poblacion('poblacion_municipios.xlsx')\n",
    "df_pob['Región'] = df_pob['Región'].replace('Bogotá, D.C.', 'Bogotá D.C.')\n",
    "df_pob['Región'] = df_pob['Región'].replace('Cartagena', 'Cartagena de Indias')\n",
    "df_casos.columns = ['ID', 'Fecha', 'Cod_Municipio', 'Ciudad', 'Depto', 'Estado', 'Edad', 'Sexo', 'Tipo', 'Gravedad',\n",
    "                   'Pais_Proc', 'FIS', 'Fecha_Diagnostico', 'Fecha_Recuperado', 'Fecha_Reporte', 'Tipo_Recuperacion', 'Cod_Depto', \n",
    "                    'Cod_Pais', 'Etnia', 'Grupo_Etnico', 'Fecha_Muerte']\n",
    "# se hace una lista con el conteo de casos por ciudad\n",
    "ciudades = list(df_casos.Ciudad.value_counts().head().index)"
   ]
  },
  {
   "cell_type": "markdown",
   "metadata": {},
   "source": [
    "Se crea una función que realiza la limpieza de los datos dado el parámetro de la ciudad\n",
    "\n",
    "Esta función de acuerdo a la ciudad consultada crea un DataFrame resumen cuya columna base son las fechas de inicio de síntomas y en las demás están las variables: Casos totales, muertos, recuperados, salidas (Agrupa muertos y recuperados), casos activos (Casos totales - salidas) y finalmente una variable GR (growth rate, que se calcula como el número de casos nuevos sobre el número de casos activos del día anterior)"
   ]
  },
  {
   "cell_type": "code",
   "execution_count": 12,
   "metadata": {},
   "outputs": [
    {
     "data": {
      "text/html": [
       "<div>\n",
       "<style scoped>\n",
       "    .dataframe tbody tr th:only-of-type {\n",
       "        vertical-align: middle;\n",
       "    }\n",
       "\n",
       "    .dataframe tbody tr th {\n",
       "        vertical-align: top;\n",
       "    }\n",
       "\n",
       "    .dataframe thead th {\n",
       "        text-align: right;\n",
       "    }\n",
       "</style>\n",
       "<table border=\"1\" class=\"dataframe\">\n",
       "  <thead>\n",
       "    <tr style=\"text-align: right;\">\n",
       "      <th></th>\n",
       "      <th>Medellín</th>\n",
       "      <th>Total</th>\n",
       "      <th>Recuperado</th>\n",
       "      <th>Fallecido</th>\n",
       "      <th>Salidas</th>\n",
       "      <th>Salidas_total</th>\n",
       "      <th>Activos</th>\n",
       "      <th>GR</th>\n",
       "    </tr>\n",
       "    <tr>\n",
       "      <th>FIS</th>\n",
       "      <th></th>\n",
       "      <th></th>\n",
       "      <th></th>\n",
       "      <th></th>\n",
       "      <th></th>\n",
       "      <th></th>\n",
       "      <th></th>\n",
       "      <th></th>\n",
       "    </tr>\n",
       "  </thead>\n",
       "  <tbody>\n",
       "    <tr>\n",
       "      <th>2020-09-01</th>\n",
       "      <td>105</td>\n",
       "      <td>51488</td>\n",
       "      <td>1210.0</td>\n",
       "      <td>14.0</td>\n",
       "      <td>1224.0</td>\n",
       "      <td>37515.0</td>\n",
       "      <td>13973.0</td>\n",
       "      <td>0.006957</td>\n",
       "    </tr>\n",
       "    <tr>\n",
       "      <th>2020-09-02</th>\n",
       "      <td>78</td>\n",
       "      <td>51566</td>\n",
       "      <td>899.0</td>\n",
       "      <td>13.0</td>\n",
       "      <td>912.0</td>\n",
       "      <td>38427.0</td>\n",
       "      <td>13139.0</td>\n",
       "      <td>0.005582</td>\n",
       "    </tr>\n",
       "    <tr>\n",
       "      <th>2020-09-03</th>\n",
       "      <td>32</td>\n",
       "      <td>51598</td>\n",
       "      <td>594.0</td>\n",
       "      <td>10.0</td>\n",
       "      <td>604.0</td>\n",
       "      <td>39031.0</td>\n",
       "      <td>12567.0</td>\n",
       "      <td>0.002435</td>\n",
       "    </tr>\n",
       "    <tr>\n",
       "      <th>2020-09-04</th>\n",
       "      <td>18</td>\n",
       "      <td>51616</td>\n",
       "      <td>1497.0</td>\n",
       "      <td>11.0</td>\n",
       "      <td>1508.0</td>\n",
       "      <td>40539.0</td>\n",
       "      <td>11077.0</td>\n",
       "      <td>0.001432</td>\n",
       "    </tr>\n",
       "    <tr>\n",
       "      <th>2020-09-05</th>\n",
       "      <td>2</td>\n",
       "      <td>51618</td>\n",
       "      <td>690.0</td>\n",
       "      <td>11.0</td>\n",
       "      <td>701.0</td>\n",
       "      <td>41240.0</td>\n",
       "      <td>10378.0</td>\n",
       "      <td>0.000181</td>\n",
       "    </tr>\n",
       "  </tbody>\n",
       "</table>\n",
       "</div>"
      ],
      "text/plain": [
       "            Medellín  Total  Recuperado  Fallecido  Salidas  Salidas_total  \\\n",
       "FIS                                                                          \n",
       "2020-09-01       105  51488      1210.0       14.0   1224.0        37515.0   \n",
       "2020-09-02        78  51566       899.0       13.0    912.0        38427.0   \n",
       "2020-09-03        32  51598       594.0       10.0    604.0        39031.0   \n",
       "2020-09-04        18  51616      1497.0       11.0   1508.0        40539.0   \n",
       "2020-09-05         2  51618       690.0       11.0    701.0        41240.0   \n",
       "\n",
       "            Activos        GR  \n",
       "FIS                            \n",
       "2020-09-01  13973.0  0.006957  \n",
       "2020-09-02  13139.0  0.005582  \n",
       "2020-09-03  12567.0  0.002435  \n",
       "2020-09-04  11077.0  0.001432  \n",
       "2020-09-05  10378.0  0.000181  "
      ]
     },
     "execution_count": 12,
     "metadata": {},
     "output_type": "execute_result"
    }
   ],
   "source": [
    "def tabla_ciudad(ciudad):\n",
    "\n",
    "    df = df_casos.loc[(df_casos.Ciudad == ciudad), :]\n",
    "    df['FIS'] = np.where(df['FIS'] == 'Asintomático',df['Fecha'] ,df['FIS'])\n",
    "    df['FIS'] = [dt.datetime.combine(dt.datetime.strptime(i,'%Y-%m-%dT%H:%M:%S.%f').date(), dt.datetime.min.time()) for i in df['FIS']]  \n",
    "    dff = pd.crosstab(df['FIS'], df['Ciudad'])\n",
    "    dff['Total'] = dff[ciudad].cumsum()\n",
    "    df_rec = df.loc[(df.Ciudad == ciudad) & ((df.Estado == 'Recuperado') | (df.Estado == 'Fallecido')), :]\n",
    "    df_recf = pd.crosstab(df_rec['Fecha_Recuperado'], df_rec['Estado'])\n",
    "    df_m = pd.crosstab(df_rec['Fecha_Muerte'], df_rec['Estado'])\n",
    "    df_s = pd.merge(df_recf, df_m['Fallecido'], left_index=True, right_index=True, how='left')\n",
    "    df_s.fillna(0, inplace=True)\n",
    "    df_s['Salidas'] = df_s.Recuperado + df_s.Fallecido\n",
    "    dff = pd.merge(dff, df_s, left_index=True, right_index=True, how = 'left')\n",
    "    dff.fillna(0, inplace=True)\n",
    "    dff['Salidas_total'] = dff['Salidas'].cumsum()\n",
    "    dff['Activos'] = dff['Total'] - dff['Salidas_total']\n",
    "    del df_rec, df_recf\n",
    "    dff['GR'] = dff[ciudad] / dff['Activos'].shift(1)\n",
    "\n",
    "    return dff\n",
    "\n",
    "tabla_ciudad('Medellín').tail()\n",
    "# La columna medellín tiene el conteo de las personas por fecha de inicio de síntomas"
   ]
  },
  {
   "attachments": {},
   "cell_type": "markdown",
   "metadata": {
    "colab_type": "text",
    "id": "ooXFeWkbr3UG"
   },
   "source": [
    "## **Metodologías Propuestas**\n",
    "Inicialmente, después de la limpieza de datos, al observar el comportamiento del total de casos acumulados y de cómo evolucionaban los casos nuevos, se observó que la curva de casos totales se asemeja a una función logística, y los casos nuevos a su derivada. Se realizó una investigación en la literatura para encontrar qué metodologías se han implementado a la fecha tratando de modelar este fenómeno y se encontraron dos funciones que podían ajustarse al comportamiento de los datos.\n",
    "\n",
    "### **1. Ajuste**\n",
    "\n",
    "> **El modelo Gompertz** es utilizado cuando un fenómeno biológico está asociado al crecimiento en un determinado tiempo, donde se asume que la tasa de crecimiento se incrementa monotónicamente hasta cuando alcanza un máximo y después decrece en forma monótona asintóticamente.Su ecuación diferencial es: \n",
    "\n",
    ">> ![image1.png](attachment:gompertz.png)\n",
    " \n",
    "\n",
    "\n",
    "> **Distribución de Gauss**\n",
    "\n",
    "\n",
    ">> ![image2.png](attachment:gauss.png)\n",
    "\n",
    "\n",
    "> Se realizó el ajuste de ambas curvas utilizando la función de optimización curve_fit() de scipy.optimize, que utiliza un el método Levenberg-Marquardt, que interpola entre el algoritmo de Gauss-Newton (GNA) y el método de gradiente descendente.\n",
    "\n",
    "\n",
    "\n"
   ]
  },
  {
   "cell_type": "markdown",
   "metadata": {},
   "source": [
    "Para realizar el ajuste se ejecutó un ciclo que optimiza ambas curvas para los datos de cada una de las principales 5 ciudades de Colombia.\n",
    "\n",
    "Para ilustrar el procedimiento utlizaremos la ciudad de medellín"
   ]
  },
  {
   "cell_type": "code",
   "execution_count": 15,
   "metadata": {},
   "outputs": [],
   "source": [
    "c = 'Medellín'\n",
    "\n",
    "# número de pronósticos\n",
    "pred = 45\n",
    "# datos para la validación cruzada\n",
    "val_cruz = 7\n",
    "\n",
    "# Se filtra el df por ciudad\n",
    "df = tabla_ciudad(c)\n",
    "df.index = pd.to_datetime(df.index)\n",
    "\n",
    "# Total de datos\n",
    "N = df.shape[0]\n",
    "\n",
    "# Serie completa (Ajuste y pronóstico)\n",
    "x = np.arange(0, N)\n",
    "pred_x = np.arange(N, N + pred)    \n",
    "\n",
    "#Validación cruzada (Ajuste y pronóstico)\n",
    "x_val = np.arange(0, N - val_cruz)\n",
    "pred_x_val = np.arange(N - val_cruz, N)\n",
    "    "
   ]
  },
  {
   "cell_type": "markdown",
   "metadata": {},
   "source": [
    "Se definen las funciones que se ajustarán a los datos\n",
    "\n",
    "Gompertz: Para los casos totales\n",
    "Derivada Gompertz, Gauss: Para las demás variables"
   ]
  },
  {
   "cell_type": "code",
   "execution_count": 20,
   "metadata": {},
   "outputs": [],
   "source": [
    "#Modelo Gompertz casos totales\n",
    "def gompertz(x, a, b, c):\n",
    "    return c * np.exp(-b * np.exp(-x / a))\n",
    "# Modelo Gompertz casos nuevos (Derivada)\n",
    "def f_gompertz(x, a, b, c):\n",
    "    return (a * (-b) * (-c) * np.exp(-b * np.exp(-c * x)) * np.exp(-c * x))\n",
    "def gauss(x, s,u,c):\n",
    "    return (1/(s*math.sqrt(2*math.pi)))*np.exp((-1*(x-u)**2)/(2*s**2))*c\n",
    "\n"
   ]
  },
  {
   "cell_type": "markdown",
   "metadata": {},
   "source": [
    "- Para los casos nuevos se ajustan las dos funciones\n",
    "- Se toma como variable la fecha de inicio de síntomas.\n",
    "- Se retiran los últimos 7 datos, ya que los enfermos que están teniendo síntomas la última semana serán registrados en los próximos días en la base de datos"
   ]
  },
  {
   "cell_type": "code",
   "execution_count": 44,
   "metadata": {},
   "outputs": [
    {
     "data": {
      "image/png": "[encoded data removed]",
      "text/plain": [
       "<Figure size 432x288 with 1 Axes>"
      ]
     },
     "metadata": {
      "needs_background": "light"
     },
     "output_type": "display_data"
    }
   ],
   "source": [
    "# Variable independiente\n",
    "f_y = np.array(df[c][:-7])\n",
    "\n",
    "# Gompertz\n",
    "f_param, pcov = curve_fit(f_gompertz, x[:-7], f_y, maxfev=10000000)\n",
    "ajuste_gompertz = f_gompertz(x[:-7], *f_param)\n",
    "pronostico_gompertz = f_gompertz(pred_x-7, *f_param)\n",
    "\n",
    "# Gauss\n",
    "f_param2, pcov2 = curve_fit(gauss, x[:-7], f_y, maxfev=10000000, bounds=([10,100,1000],[10000,10000,10000000]))\n",
    "ajuste_gauss = gauss(x[:-7], *f_param2)\n",
    "pronostico_gauss = gauss(pred_x-7, *f_param2)\n",
    "\n",
    "\n",
    "# MSE (sklearn)\n",
    "mse1 = mean_squared_error(f_y,ajuste_gompertz)\n",
    "mse2 = mean_squared_error(f_y,ajuste_gauss)\n",
    "\n",
    "\n",
    "plt.plot(f_y)\n",
    "plt.plot(ajuste_gompertz, 'r-', label = f'Ajuste Gompertz, MSE: {round(mse1,2)}')\n",
    "plt.plot(ajuste_gauss, 'g-', label = f'Ajuste Gauss, MSE: {round(mse2,2)}')\n",
    "plt.title('Medellín - Casos nuevos')\n",
    "plt.legend()\n",
    "plt.show()"
   ]
  },
  {
   "cell_type": "markdown",
   "metadata": {},
   "source": [
    "Se observó que similar al caso de Medellín las demás variables también mostraban diferentes ajustes con ambas curvas, por lo que se decidió que para cada variable y ciudad se tomaría aquella curva con mejor ajuste, como criterio de selección se utilizó el MSE."
   ]
  },
  {
   "cell_type": "markdown",
   "metadata": {},
   "source": [
    "Para modelar las variables en el ciclo de forma más simple se utilizó la siguiente función, que devuelve el ajuste y el pronóstico del modelo que mejor ajusta."
   ]
  },
  {
   "cell_type": "code",
   "execution_count": 29,
   "metadata": {},
   "outputs": [],
   "source": [
    "def mod_gompertz(y, x, pred_x, tipo='nuevos'):\n",
    "\n",
    "    y = list(y)\n",
    "\n",
    "    #Modelo Gompertz casos totales\n",
    "    def gompertz(x, a, b, c):\n",
    "        return c * np.exp(-b * np.exp(-x / a))\n",
    "    # Modelo Gompertz casos nuevos (Derivada)\n",
    "    def f_gompertz(x, a, b, c):\n",
    "        return (a * (-b) * (-c) * np.exp(-b * np.exp(-c * x)) * np.exp(-c * x))\n",
    "    def gauss(x, s,u,c):\n",
    "        return (1/(s*math.sqrt(2*math.pi)))*np.exp((-1*(x-u)**2)/(2*s**2))*c\n",
    "    \n",
    "\n",
    "    # Ajuste y pronóstico\n",
    "    if tipo == 'nuevos':\n",
    "        f_param, pcov = curve_fit(f_gompertz, x, y, maxfev=10000000)\n",
    "        ajuste = f_gompertz(x, *f_param)\n",
    "        pronostico = f_gompertz(pred_x, *f_param)\n",
    "        f_param2, pcov2 = curve_fit(gauss, x, y, maxfev=10000000, bounds=([10,100,1000],[10000,10000,10000000]))\n",
    "        ajuste2 = gauss(x, *f_param2)\n",
    "        pronostico2 = gauss(pred_x, *f_param2)\n",
    "        \n",
    "        # MSE (sklearn)\n",
    "        mse1 = mean_squared_error(y,ajuste)\n",
    "        mse2 = mean_squared_error(y,ajuste2)\n",
    "        \n",
    "        # Se selecciona la de menor MSE\n",
    "        if mse2 <= mse1:\n",
    "            ajuste = ajuste2\n",
    "            pronostico = pronostico2\n",
    "\n",
    "        \n",
    "    elif tipo == 'totales':\n",
    "        # Para los casos totales solamente se utilizó la función gompertz\n",
    "        param, pcov = curve_fit(gompertz, x, y, maxfev=10000000)\n",
    "        ajuste = gompertz(x, *param)\n",
    "        pronostico = gompertz(pred_x, *param)\n",
    "        \n",
    "\n",
    "        ajuste2 = np.repeat(0,len(x))\n",
    "        pronostico2 = np.repeat(0,len(pred_x))\n",
    "    else:\n",
    "        print('Elija un tipo válido')\n",
    "        \n",
    "        \n",
    "    \n",
    "    return ajuste, pronostico"
   ]
  },
  {
   "cell_type": "markdown",
   "metadata": {},
   "source": [
    "\n",
    "> Al observar el comportamiento de las curvas se analizaron los residuales y se encontró que estos contenían correlaciones que podían ser modeladas a través de Modelos Autorregresivos y de Medias Móviles (ARMA).\n",
    "\n",
    "> No fue necesario realizar diferenciación en los residuales ya que la tendencia es modelada por las funciones Gompertz o Gauss.\n",
    "\n",
    "\n",
    "\n",
    "\n",
    "\n",
    "\n",
    "\n"
   ]
  },
  {
   "cell_type": "code",
   "execution_count": 33,
   "metadata": {},
   "outputs": [
    {
     "data": {
      "image/png": "[encoded data removed]",
      "text/plain": [
       "<Figure size 432x288 with 1 Axes>"
      ]
     },
     "metadata": {
      "needs_background": "light"
     },
     "output_type": "display_data"
    }
   ],
   "source": [
    "# por mse se toma el ajuste Gompertz (Variable \"ajuste\")\n",
    "\n",
    "# se hallan los residuales\n",
    "res = f_y - ajuste\n",
    "\n",
    "# Se grafican los residuales sin tener en cuenta los primeros periodos donde la serie es casi constante cercana a cero\n",
    "plt.plot(res[100:])\n",
    "plt.show()"
   ]
  },
  {
   "cell_type": "markdown",
   "metadata": {},
   "source": [
    "En los residuales se observa una varianza aproximadamente constante y que tienen media cero (No hay presencia de tendencia)\n",
    "\n",
    "Se grafica la ACF y la PACF en busca de correlaciones significativas"
   ]
  },
  {
   "cell_type": "code",
   "execution_count": 38,
   "metadata": {},
   "outputs": [
    {
     "data": {
      "image/png": "[encoded data removed]",
      "text/plain": [
       "<Figure size 432x288 with 1 Axes>"
      ]
     },
     "metadata": {
      "needs_background": "light"
     },
     "output_type": "display_data"
    },
    {
     "data": {
      "image/png": "[encoded data removed]",
      "text/plain": [
       "<Figure size 432x288 with 1 Axes>"
      ]
     },
     "metadata": {
      "needs_background": "light"
     },
     "output_type": "display_data"
    }
   ],
   "source": [
    "pm.plot_acf(res, alpha = 0.05)\n",
    "pm.plot_pacf(res, alpha = 0.05)    "
   ]
  },
  {
   "cell_type": "markdown",
   "metadata": {},
   "source": [
    "Se observan correlaciones significativas para los rezagos 1 y 2 en la ACF y el rezago 1 y 9 en la PACF. Adicionalmente la serie de los residuales sigue un proceso estacionario en covarianza ya que tiene media cero, varianza aproximadamente constante y tiene propiedades ergódicas (La autocorrelación tiende a cero rápidamente) "
   ]
  },
  {
   "cell_type": "code",
   "execution_count": 45,
   "metadata": {},
   "outputs": [
    {
     "data": {
      "text/html": [
       "<table class=\"simpletable\">\n",
       "<caption>SARIMAX Results</caption>\n",
       "<tr>\n",
       "  <th>Dep. Variable:</th>           <td>y</td>        <th>  No. Observations:  </th>    <td>179</td>   \n",
       "</tr>\n",
       "<tr>\n",
       "  <th>Model:</th>           <td>SARIMAX(3, 0, 2)</td> <th>  Log Likelihood     </th> <td>-1043.718</td>\n",
       "</tr>\n",
       "<tr>\n",
       "  <th>Date:</th>            <td>Mon, 07 Sep 2020</td> <th>  AIC                </th> <td>2099.437</td> \n",
       "</tr>\n",
       "<tr>\n",
       "  <th>Time:</th>                <td>22:00:32</td>     <th>  BIC                </th> <td>2118.561</td> \n",
       "</tr>\n",
       "<tr>\n",
       "  <th>Sample:</th>                  <td>0</td>        <th>  HQIC               </th> <td>2107.192</td> \n",
       "</tr>\n",
       "<tr>\n",
       "  <th></th>                      <td> - 179</td>      <th>                     </th>     <td> </td>    \n",
       "</tr>\n",
       "<tr>\n",
       "  <th>Covariance Type:</th>        <td>opg</td>       <th>                     </th>     <td> </td>    \n",
       "</tr>\n",
       "</table>\n",
       "<table class=\"simpletable\">\n",
       "<tr>\n",
       "     <td></td>       <th>coef</th>     <th>std err</th>      <th>z</th>      <th>P>|z|</th>  <th>[0.025</th>    <th>0.975]</th>  \n",
       "</tr>\n",
       "<tr>\n",
       "  <th>ar.L1</th>  <td>   -0.9103</td> <td>    0.060</td> <td>  -15.140</td> <td> 0.000</td> <td>   -1.028</td> <td>   -0.792</td>\n",
       "</tr>\n",
       "<tr>\n",
       "  <th>ar.L2</th>  <td>    0.0101</td> <td>    0.066</td> <td>    0.152</td> <td> 0.879</td> <td>   -0.120</td> <td>    0.140</td>\n",
       "</tr>\n",
       "<tr>\n",
       "  <th>ar.L3</th>  <td>    0.6027</td> <td>    0.040</td> <td>   15.109</td> <td> 0.000</td> <td>    0.524</td> <td>    0.681</td>\n",
       "</tr>\n",
       "<tr>\n",
       "  <th>ma.L1</th>  <td>    1.4585</td> <td>    0.057</td> <td>   25.795</td> <td> 0.000</td> <td>    1.348</td> <td>    1.569</td>\n",
       "</tr>\n",
       "<tr>\n",
       "  <th>ma.L2</th>  <td>    0.8516</td> <td>    0.057</td> <td>   15.005</td> <td> 0.000</td> <td>    0.740</td> <td>    0.963</td>\n",
       "</tr>\n",
       "<tr>\n",
       "  <th>sigma2</th> <td> 6746.8322</td> <td>  375.203</td> <td>   17.982</td> <td> 0.000</td> <td> 6011.447</td> <td> 7482.217</td>\n",
       "</tr>\n",
       "</table>\n",
       "<table class=\"simpletable\">\n",
       "<tr>\n",
       "  <th>Ljung-Box (Q):</th>           <td>57.82</td>  <th>  Jarque-Bera (JB):  </th> <td>243.07</td>\n",
       "</tr>\n",
       "<tr>\n",
       "  <th>Prob(Q):</th>                 <td>0.03</td>   <th>  Prob(JB):          </th>  <td>0.00</td> \n",
       "</tr>\n",
       "<tr>\n",
       "  <th>Heteroskedasticity (H):</th> <td>1044.92</td> <th>  Skew:              </th>  <td>-0.06</td>\n",
       "</tr>\n",
       "<tr>\n",
       "  <th>Prob(H) (two-sided):</th>     <td>0.00</td>   <th>  Kurtosis:          </th>  <td>8.71</td> \n",
       "</tr>\n",
       "</table><br/><br/>Warnings:<br/>[1] Covariance matrix calculated using the outer product of gradients (complex-step)."
      ],
      "text/plain": [
       "<class 'statsmodels.iolib.summary.Summary'>\n",
       "\"\"\"\n",
       "                               SARIMAX Results                                \n",
       "==============================================================================\n",
       "Dep. Variable:                      y   No. Observations:                  179\n",
       "Model:               SARIMAX(3, 0, 2)   Log Likelihood               -1043.718\n",
       "Date:                Mon, 07 Sep 2020   AIC                           2099.437\n",
       "Time:                        22:00:32   BIC                           2118.561\n",
       "Sample:                             0   HQIC                          2107.192\n",
       "                                - 179                                         \n",
       "Covariance Type:                  opg                                         \n",
       "==============================================================================\n",
       "                 coef    std err          z      P>|z|      [0.025      0.975]\n",
       "------------------------------------------------------------------------------\n",
       "ar.L1         -0.9103      0.060    -15.140      0.000      -1.028      -0.792\n",
       "ar.L2          0.0101      0.066      0.152      0.879      -0.120       0.140\n",
       "ar.L3          0.6027      0.040     15.109      0.000       0.524       0.681\n",
       "ma.L1          1.4585      0.057     25.795      0.000       1.348       1.569\n",
       "ma.L2          0.8516      0.057     15.005      0.000       0.740       0.963\n",
       "sigma2      6746.8322    375.203     17.982      0.000    6011.447    7482.217\n",
       "===================================================================================\n",
       "Ljung-Box (Q):                       57.82   Jarque-Bera (JB):               243.07\n",
       "Prob(Q):                              0.03   Prob(JB):                         0.00\n",
       "Heteroskedasticity (H):            1044.92   Skew:                            -0.06\n",
       "Prob(H) (two-sided):                  0.00   Kurtosis:                         8.71\n",
       "===================================================================================\n",
       "\n",
       "Warnings:\n",
       "[1] Covariance matrix calculated using the outer product of gradients (complex-step).\n",
       "\"\"\""
      ]
     },
     "execution_count": 45,
     "metadata": {},
     "output_type": "execute_result"
    }
   ],
   "source": [
    "# Para el ajuste se utiliza la función auto_arima de la librería pmdarima\n",
    "# Esta función prueba modelos ARMA de diferentes órdenes y por medio de un algorítmo\n",
    "# encuentra el modelo con menor AIC\n",
    "\n",
    "# De esta manera podemos automatizar la búsqueda de modelos para cada variable\n",
    "# Estas series no muestran un patrón estacional determinístico periodico exacto,\n",
    "# por lo que a la función se le asigna seasonal = False\n",
    "stepwise_fit = auto_arima(res, seasonal=False)\n",
    "\n",
    "\n",
    "# # se ajusta el modelo con la función SARIMAX de statsmodels\n",
    "arma = SARIMAX(res,order=stepwise_fit.order)\n",
    "\n",
    "# se hace el fit\n",
    "resultado = arma.fit() \n",
    "\n",
    "\n",
    "\n",
    "# Con predict se genera un vector con los ajustes para los residuales\n",
    "ajuste_ARMA = resultado.predict(1, len(res), \n",
    "                      typ = 'levels')\n",
    "\n",
    "pronostico_ARMA = resultado.predict(min(pred_x-7), max(pred_x-7), \n",
    "                      typ = 'levels')\n",
    "\n",
    "# Resumen del modelo\n",
    "resultado.summary() \n",
    "\n"
   ]
  },
  {
   "cell_type": "markdown",
   "metadata": {},
   "source": [
    "El modelo con mejor ajuste en este caso es un ARIMA(3,0,2), según el valor-p sólo el parámetro phi2 no es significativo.\n",
    "\n",
    "Ahora se combinan los dos ajustes (tendencia Gompertz y ARIMA para ciclos en los residuales)"
   ]
  },
  {
   "cell_type": "code",
   "execution_count": 46,
   "metadata": {},
   "outputs": [
    {
     "data": {
      "text/plain": [
       "[<matplotlib.lines.Line2D at 0x26a3485a6a0>]"
      ]
     },
     "execution_count": 46,
     "metadata": {},
     "output_type": "execute_result"
    },
    {
     "data": {
      "image/png": "[encoded data removed]",
      "text/plain": [
       "<Figure size 432x288 with 1 Axes>"
      ]
     },
     "metadata": {
      "needs_background": "light"
     },
     "output_type": "display_data"
    }
   ],
   "source": [
    "ajuste_final = ajuste_gompertz + ajuste_ARMA\n",
    "pronostico_final = pronostico_gompertz + pronostico_ARMA\n",
    "\n",
    "plt.plot(f_y)\n",
    "plt.plot(x[:-7],ajuste_final, 'r-')\n",
    "plt.plot(pred_x-7,pronostico_final, 'g-')"
   ]
  },
  {
   "cell_type": "markdown",
   "metadata": {},
   "source": [
    "Se observa que con el modelo ARMA en los ciclos de los residuales se logra explicar parte de la variación de la serie (En algunas variables logra explicar más que otras)"
   ]
  },
  {
   "cell_type": "markdown",
   "metadata": {},
   "source": [
    "\n"
   ]
  },
  {
   "cell_type": "markdown",
   "metadata": {},
   "source": [
    "\n",
    "### **2. Pronóstico**\n",
    "\n",
    "> Se utilizó el modelo Gompertz para la predicción a corto plazo (15 días) y el modelo SIR para predecir a mediano plazo **(2 meses)** a partir de los datos reales disponibles en la BD de casos positivos de COVID-19 en Colombia.\n",
    "\n",
    "> **El modelo SIR** funciona bajo el supuesto de que toda la población de un territorio es susceptible **(S)** y tiene alta probabilidad de contagiarse y por esto la población infectada **(I)** se incrementa exponencialmente en un periodo de tiempo determinado y a partir de estos se generan los casos recuperados y fallecidos **(R)**. Para el incremento y disminución de los casos contagiados se utiliza la Beta **(β)** como la tasa de contagio y Gamma **(Γ)** como la tasa de recuperación. El modelo SIR consta de un sistema de tres ecuaciones diferenciales:\n",
    "\n",
    ">> ![image.png](data:image/png;base64,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)\n",
    "\n",
    "> Para unir ambos modelos se ponderando los pesos a medida que avanza el tiempo, es decir, en los intervalos en que tiene mayor confiabilidad los respectivos modelos."
   ]
  }
 ],
 "metadata": {
  "colab": {
   "collapsed_sections": [],
   "name": "Notebook Analitica Predictiva",
   "provenance": []
  },
  "kernelspec": {
   "display_name": "Python 3",
   "language": "python",
   "name": "python3"
  },
  "language_info": {
   "codemirror_mode": {
    "name": "ipython",
    "version": 3
   },
   "file_extension": ".py",
   "mimetype": "text/x-python",
   "name": "python",
   "nbconvert_exporter": "python",
   "pygments_lexer": "ipython3",
   "version": "3.8.3"
  }
 },
 "nbformat": 4,
 "nbformat_minor": 1
}
